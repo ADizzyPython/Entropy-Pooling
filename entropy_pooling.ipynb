{
  "nbformat": 4,
  "nbformat_minor": 0,
  "metadata": {
    "colab": {
      "provenance": []
    },
    "kernelspec": {
      "name": "python3",
      "display_name": "Python 3"
    },
    "language_info": {
      "name": "python"
    }
  },
  "cells": [
    {
      "cell_type": "code",
      "execution_count": null,
      "metadata": {
        "colab": {
          "base_uri": "https://localhost:8080/"
        },
        "id": "vp-bD5DLkQum",
        "outputId": "a18e38d7-6cc7-434d-cffd-9413ec015f9d"
      },
      "outputs": [
        {
          "output_type": "stream",
          "name": "stdout",
          "text": [
            "Requirement already satisfied: entropy-pooling in /usr/local/lib/python3.10/dist-packages (1.0.5)\n",
            "Requirement already satisfied: scipy<2.0,>=1.10 in /usr/local/lib/python3.10/dist-packages (from entropy-pooling) (1.11.4)\n",
            "Requirement already satisfied: numpy<1.28.0,>=1.21.6 in /usr/local/lib/python3.10/dist-packages (from scipy<2.0,>=1.10->entropy-pooling) (1.25.2)\n"
          ]
        }
      ],
      "source": [
        "pip install entropy-pooling"
      ]
    },
    {
      "cell_type": "code",
      "source": [
        "from google.colab import files\n",
        "uploaded = files.upload()"
      ],
      "metadata": {
        "colab": {
          "base_uri": "https://localhost:8080/",
          "height": 73
        },
        "id": "HulZEKU_kgg-",
        "outputId": "a3dcc61b-df93-4d7b-8e6a-0e7c4ab999c6"
      },
      "execution_count": null,
      "outputs": [
        {
          "output_type": "display_data",
          "data": {
            "text/plain": [
              "<IPython.core.display.HTML object>"
            ],
            "text/html": [
              "\n",
              "     <input type=\"file\" id=\"files-679580d4-85d3-4188-91fd-545a06e584e3\" name=\"files[]\" multiple disabled\n",
              "        style=\"border:none\" />\n",
              "     <output id=\"result-679580d4-85d3-4188-91fd-545a06e584e3\">\n",
              "      Upload widget is only available when the cell has been executed in the\n",
              "      current browser session. Please rerun this cell to enable.\n",
              "      </output>\n",
              "      <script>// Copyright 2017 Google LLC\n",
              "//\n",
              "// Licensed under the Apache License, Version 2.0 (the \"License\");\n",
              "// you may not use this file except in compliance with the License.\n",
              "// You may obtain a copy of the License at\n",
              "//\n",
              "//      http://www.apache.org/licenses/LICENSE-2.0\n",
              "//\n",
              "// Unless required by applicable law or agreed to in writing, software\n",
              "// distributed under the License is distributed on an \"AS IS\" BASIS,\n",
              "// WITHOUT WARRANTIES OR CONDITIONS OF ANY KIND, either express or implied.\n",
              "// See the License for the specific language governing permissions and\n",
              "// limitations under the License.\n",
              "\n",
              "/**\n",
              " * @fileoverview Helpers for google.colab Python module.\n",
              " */\n",
              "(function(scope) {\n",
              "function span(text, styleAttributes = {}) {\n",
              "  const element = document.createElement('span');\n",
              "  element.textContent = text;\n",
              "  for (const key of Object.keys(styleAttributes)) {\n",
              "    element.style[key] = styleAttributes[key];\n",
              "  }\n",
              "  return element;\n",
              "}\n",
              "\n",
              "// Max number of bytes which will be uploaded at a time.\n",
              "const MAX_PAYLOAD_SIZE = 100 * 1024;\n",
              "\n",
              "function _uploadFiles(inputId, outputId) {\n",
              "  const steps = uploadFilesStep(inputId, outputId);\n",
              "  const outputElement = document.getElementById(outputId);\n",
              "  // Cache steps on the outputElement to make it available for the next call\n",
              "  // to uploadFilesContinue from Python.\n",
              "  outputElement.steps = steps;\n",
              "\n",
              "  return _uploadFilesContinue(outputId);\n",
              "}\n",
              "\n",
              "// This is roughly an async generator (not supported in the browser yet),\n",
              "// where there are multiple asynchronous steps and the Python side is going\n",
              "// to poll for completion of each step.\n",
              "// This uses a Promise to block the python side on completion of each step,\n",
              "// then passes the result of the previous step as the input to the next step.\n",
              "function _uploadFilesContinue(outputId) {\n",
              "  const outputElement = document.getElementById(outputId);\n",
              "  const steps = outputElement.steps;\n",
              "\n",
              "  const next = steps.next(outputElement.lastPromiseValue);\n",
              "  return Promise.resolve(next.value.promise).then((value) => {\n",
              "    // Cache the last promise value to make it available to the next\n",
              "    // step of the generator.\n",
              "    outputElement.lastPromiseValue = value;\n",
              "    return next.value.response;\n",
              "  });\n",
              "}\n",
              "\n",
              "/**\n",
              " * Generator function which is called between each async step of the upload\n",
              " * process.\n",
              " * @param {string} inputId Element ID of the input file picker element.\n",
              " * @param {string} outputId Element ID of the output display.\n",
              " * @return {!Iterable<!Object>} Iterable of next steps.\n",
              " */\n",
              "function* uploadFilesStep(inputId, outputId) {\n",
              "  const inputElement = document.getElementById(inputId);\n",
              "  inputElement.disabled = false;\n",
              "\n",
              "  const outputElement = document.getElementById(outputId);\n",
              "  outputElement.innerHTML = '';\n",
              "\n",
              "  const pickedPromise = new Promise((resolve) => {\n",
              "    inputElement.addEventListener('change', (e) => {\n",
              "      resolve(e.target.files);\n",
              "    });\n",
              "  });\n",
              "\n",
              "  const cancel = document.createElement('button');\n",
              "  inputElement.parentElement.appendChild(cancel);\n",
              "  cancel.textContent = 'Cancel upload';\n",
              "  const cancelPromise = new Promise((resolve) => {\n",
              "    cancel.onclick = () => {\n",
              "      resolve(null);\n",
              "    };\n",
              "  });\n",
              "\n",
              "  // Wait for the user to pick the files.\n",
              "  const files = yield {\n",
              "    promise: Promise.race([pickedPromise, cancelPromise]),\n",
              "    response: {\n",
              "      action: 'starting',\n",
              "    }\n",
              "  };\n",
              "\n",
              "  cancel.remove();\n",
              "\n",
              "  // Disable the input element since further picks are not allowed.\n",
              "  inputElement.disabled = true;\n",
              "\n",
              "  if (!files) {\n",
              "    return {\n",
              "      response: {\n",
              "        action: 'complete',\n",
              "      }\n",
              "    };\n",
              "  }\n",
              "\n",
              "  for (const file of files) {\n",
              "    const li = document.createElement('li');\n",
              "    li.append(span(file.name, {fontWeight: 'bold'}));\n",
              "    li.append(span(\n",
              "        `(${file.type || 'n/a'}) - ${file.size} bytes, ` +\n",
              "        `last modified: ${\n",
              "            file.lastModifiedDate ? file.lastModifiedDate.toLocaleDateString() :\n",
              "                                    'n/a'} - `));\n",
              "    const percent = span('0% done');\n",
              "    li.appendChild(percent);\n",
              "\n",
              "    outputElement.appendChild(li);\n",
              "\n",
              "    const fileDataPromise = new Promise((resolve) => {\n",
              "      const reader = new FileReader();\n",
              "      reader.onload = (e) => {\n",
              "        resolve(e.target.result);\n",
              "      };\n",
              "      reader.readAsArrayBuffer(file);\n",
              "    });\n",
              "    // Wait for the data to be ready.\n",
              "    let fileData = yield {\n",
              "      promise: fileDataPromise,\n",
              "      response: {\n",
              "        action: 'continue',\n",
              "      }\n",
              "    };\n",
              "\n",
              "    // Use a chunked sending to avoid message size limits. See b/62115660.\n",
              "    let position = 0;\n",
              "    do {\n",
              "      const length = Math.min(fileData.byteLength - position, MAX_PAYLOAD_SIZE);\n",
              "      const chunk = new Uint8Array(fileData, position, length);\n",
              "      position += length;\n",
              "\n",
              "      const base64 = btoa(String.fromCharCode.apply(null, chunk));\n",
              "      yield {\n",
              "        response: {\n",
              "          action: 'append',\n",
              "          file: file.name,\n",
              "          data: base64,\n",
              "        },\n",
              "      };\n",
              "\n",
              "      let percentDone = fileData.byteLength === 0 ?\n",
              "          100 :\n",
              "          Math.round((position / fileData.byteLength) * 100);\n",
              "      percent.textContent = `${percentDone}% done`;\n",
              "\n",
              "    } while (position < fileData.byteLength);\n",
              "  }\n",
              "\n",
              "  // All done.\n",
              "  yield {\n",
              "    response: {\n",
              "      action: 'complete',\n",
              "    }\n",
              "  };\n",
              "}\n",
              "\n",
              "scope.google = scope.google || {};\n",
              "scope.google.colab = scope.google.colab || {};\n",
              "scope.google.colab._files = {\n",
              "  _uploadFiles,\n",
              "  _uploadFilesContinue,\n",
              "};\n",
              "})(self);\n",
              "</script> "
            ]
          },
          "metadata": {}
        },
        {
          "output_type": "stream",
          "name": "stdout",
          "text": [
            "Saving RETURNS_new.csv to RETURNS_new.csv\n"
          ]
        }
      ]
    },
    {
      "cell_type": "code",
      "source": [
        "import pandas as pd\n",
        "import numpy as np\n",
        "from entropy_pooling import ep\n",
        "\n",
        "\n",
        "col_indices = [20, 21, 22, 23, 24]\n",
        "df = pd.read_csv('RETURNS_new.csv', usecols=col_indices)\n",
        "df=df.dropna().iloc[1:]# Drop the first row with headers and any NaN values\n",
        "\n",
        "df.columns = ['GOOGL', 'AAPL', 'ADBE', 'META', 'MSFT']\n",
        "\n",
        "for col in df.columns:\n",
        "    df[col] = df[col].str.rstrip('%').astype('float') / 100\n",
        "    returns_df =df\n",
        "# Convert DataFrame to NumPy array\n",
        "R = returns_df.values.astype(float)\n",
        "S = R.shape[0]\n",
        "p = np.ones((S, 1)) / S\n",
        "\n",
        "# Calculate prior mean and volatility\n",
        "means_prior = p.T @ R\n",
        "vols_prior = np.sqrt(p.T @ (R - means_prior)**2)\n",
        "\n",
        "# Defining the views\n",
        "views = {\n",
        "    'AAPL_mean': 0.21 / 100,  # Converting percentage to decimal\n",
        "    'MSFT_vol': 1.5 / 100,    # Converting percentage to decimal\n",
        "    'GOOGL_mean': 0.53 / 100, # Converting percentage to decimal\n",
        "    'META_vol': 2.51 / 100    # Converting percentage to decimal\n",
        "}\n",
        "\n",
        "\n",
        "A = np.vstack((\n",
        "    np.ones((1, S)),\n",
        "    R[:, 1],\n",
        "    R[:, 0]\n",
        "))\n",
        "\n",
        "b = np.array([1, views['AAPL_mean'], views['GOOGL_mean']]).reshape(-1, 1)\n",
        "\n",
        "G = np.vstack((\n",
        "    (R[:, 4] - means_prior[0, 4])**2,\n",
        "    (R[:, 3] - means_prior[0, 3])**2\n",
        "))\n",
        "\n",
        "h = np.array([views['MSFT_vol']**2, views['META_vol']**2]).reshape(-1, 1)\n",
        "\n",
        "# Calculating posterior probabilities using entropy pooling\n",
        "posterior_prob = ep(p, A, b, G, h)\n",
        "\n",
        "# Calculating posterior mean\n",
        "posterior_mean = (posterior_prob.T)*100 @ R\n",
        "\n",
        "# Calculating posterior volatility for each asset\n",
        "posterior_vols = np.zeros(R.shape[1])\n",
        "for i in range(R.shape[1]):\n",
        "    squared_deviations = (R[:, i] - (posterior_mean[0, i] / 100))**2\n",
        "    posterior_vols[i] = np.round(np.sqrt(posterior_prob.T @ squared_deviations).item() * 100, decimals=4)\n",
        "\n",
        "# Display results\n",
        "print(\"Prior Mean:\")\n",
        "for i, ticker in enumerate(['GOOGL', 'AAPL', 'ADBE', 'META', 'MSFT']):\n",
        "    print(f\"{ticker}: {means_prior[0, i] * 100:.2f}\")\n",
        "\n",
        "print(\"\\nPrior Volatilities:\")\n",
        "for i, ticker in enumerate(['GOOGL', 'AAPL', 'ADBE', 'META', 'MSFT']):\n",
        "    print(f\"{ticker}: {vols_prior[0, i] * 100:.2f}\")\n",
        "\n",
        "print(\"\\nPosterior Mean:\")\n",
        "for i, ticker in enumerate(['GOOGL', 'AAPL', 'ADBE', 'META', 'MSFT']):\n",
        "    print(f\"{ticker}: {posterior_mean[0, i]:.2f}\")\n",
        "\n",
        "print(\"\\nPosterior Volatilities:\")\n",
        "for i, ticker in enumerate(['GOOGL', 'AAPL', 'ADBE', 'META', 'MSFT']):\n",
        "    print(f\"{ticker}: {posterior_vols[i]:.2f}\")"
      ],
      "metadata": {
        "colab": {
          "base_uri": "https://localhost:8080/"
        },
        "id": "NzPBPOu0t2No",
        "outputId": "556b95e4-8dd5-4536-f919-7622d60e8387"
      },
      "execution_count": null,
      "outputs": [
        {
          "output_type": "stream",
          "name": "stderr",
          "text": [
            "/usr/local/lib/python3.10/dist-packages/entropy_pooling/entropy_pooling.py:67: RuntimeWarning: overflow encountered in exp\n",
            "  x = np.exp(log_x)\n",
            "/usr/local/lib/python3.10/dist-packages/entropy_pooling/entropy_pooling.py:68: RuntimeWarning: invalid value encountered in matmul\n",
            "  gradient = rhs - lhs @ x\n",
            "/usr/local/lib/python3.10/dist-packages/entropy_pooling/entropy_pooling.py:69: RuntimeWarning: invalid value encountered in matmul\n",
            "  objective = x.T @ (log_x - log_p) - lagrange_multipliers.T @ gradient\n"
          ]
        },
        {
          "output_type": "stream",
          "name": "stdout",
          "text": [
            "Prior Mean:\n",
            "GOOGL: 0.00\n",
            "AAPL: 0.00\n",
            "ADBE: 0.00\n",
            "META: 0.00\n",
            "MSFT: 0.00\n",
            "\n",
            "Prior Volatilities:\n",
            "GOOGL: 0.02\n",
            "AAPL: 0.02\n",
            "ADBE: 0.02\n",
            "META: 0.02\n",
            "MSFT: 0.01\n",
            "\n",
            "Posterior Mean:\n",
            "GOOGL: 0.00\n",
            "AAPL: 0.00\n",
            "ADBE: 0.00\n",
            "META: 0.00\n",
            "MSFT: 0.00\n",
            "\n",
            "Posterior Volatilities:\n",
            "GOOGL: 0.00\n",
            "AAPL: 0.00\n",
            "ADBE: 0.00\n",
            "META: 0.00\n",
            "MSFT: 0.00\n"
          ]
        }
      ]
    },
    {
      "cell_type": "code",
      "source": [],
      "metadata": {
        "id": "wDwZC3ue3QC0"
      },
      "execution_count": null,
      "outputs": []
    },
    {
      "cell_type": "code",
      "source": [
        "\n",
        "# Q matrix (posterior probabilities)\n",
        "print(\"\\nQ Matrix (Posterior Probabilities):\")\n",
        "print(posterior_prob)\n",
        "print(\"prior mean\",means_prior)\n",
        "posterior_prob.shape"
      ],
      "metadata": {
        "colab": {
          "base_uri": "https://localhost:8080/"
        },
        "id": "b0i_wU0_3EGI",
        "outputId": "6e14c0e1-988b-4188-e76d-b8bacaf1b7a2"
      },
      "execution_count": null,
      "outputs": [
        {
          "output_type": "stream",
          "name": "stdout",
          "text": [
            "\n",
            "Q Matrix (Posterior Probabilities):\n",
            "[[0.]\n",
            " [0.]\n",
            " [0.]\n",
            " ...\n",
            " [0.]\n",
            " [0.]\n",
            " [0.]]\n",
            "prior mean [[3.06815841e-05 3.51718338e-05 9.34218603e-06 1.05790647e-06\n",
            "  1.12277120e-05]]\n"
          ]
        },
        {
          "output_type": "execute_result",
          "data": {
            "text/plain": [
              "(5000, 1)"
            ]
          },
          "metadata": {},
          "execution_count": 6
        }
      ]
    },
    {
      "cell_type": "code",
      "source": [
        "print(\"A's shape\",A.shape)\n",
        "print(\"b's shape\",b.shape)\n",
        "print(\"G's shape\",G.shape)\n",
        "print(\"h's shape\",h.shape)\n",
        "print(\"R's shape\",R.shape)"
      ],
      "metadata": {
        "colab": {
          "base_uri": "https://localhost:8080/"
        },
        "id": "LHNCITwlfGBs",
        "outputId": "4816a636-b8ae-4dae-f674-10903053d233"
      },
      "execution_count": null,
      "outputs": [
        {
          "output_type": "stream",
          "name": "stdout",
          "text": [
            "A's shape (3, 5000)\n",
            "b's shape (3, 1)\n",
            "G's shape (2, 5000)\n",
            "h's shape (2, 1)\n",
            "R's shape (5000, 5)\n"
          ]
        }
      ]
    }
  ]
}